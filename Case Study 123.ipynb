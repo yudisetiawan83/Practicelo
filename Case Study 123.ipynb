{
 "cells": [
  {
   "cell_type": "code",
   "execution_count": 1,
   "id": "916121e1-6892-4771-85ae-2e3551e5c02f",
   "metadata": {},
   "outputs": [
    {
     "name": "stdin",
     "output_type": "stream",
     "text": [
      "Enter the gallons used (-1 to end):  12.8\n",
      "Enter the miles driven:  287\n"
     ]
    },
    {
     "name": "stdout",
     "output_type": "stream",
     "text": [
      "The miles/gallon for this tank was 22.42\n"
     ]
    },
    {
     "name": "stdin",
     "output_type": "stream",
     "text": [
      "Enter the gallons used (-1 to end):  10.3\n",
      "Enter the miles driven:  200\n"
     ]
    },
    {
     "name": "stdout",
     "output_type": "stream",
     "text": [
      "The miles/gallon for this tank was 19.42\n"
     ]
    },
    {
     "name": "stdin",
     "output_type": "stream",
     "text": [
      "Enter the gallons used (-1 to end):  5\n",
      "Enter the miles driven:  120\n"
     ]
    },
    {
     "name": "stdout",
     "output_type": "stream",
     "text": [
      "The miles/gallon for this tank was 24.00\n"
     ]
    },
    {
     "name": "stdin",
     "output_type": "stream",
     "text": [
      "Enter the gallons used (-1 to end):  -1\n"
     ]
    },
    {
     "name": "stdout",
     "output_type": "stream",
     "text": [
      "The overall average miles/gallon was 21.60\n"
     ]
    }
   ],
   "source": [
    "total_miles = 0\n",
    "total_gallons = 0\n",
    "while True:\n",
    "  gallons_used = float(input(\"Enter the gallons used (-1 to end): \"))\n",
    "  if gallons_used == -1:\n",
    "    break\n",
    "  miles_driven = float(input(\"Enter the miles driven: \"))\n",
    "  mpg = miles_driven / gallons_used\n",
    "  print(f\"The miles/gallon for this tank was {mpg:.2f}\")\n",
    "  total_miles += miles_driven\n",
    "  total_gallons += gallons_used\n",
    "\n",
    "overall_mpg = total_miles / total_gallons\n",
    "print(f\"The overall average miles/gallon was {overall_mpg:.2f}\")\n"
   ]
  },
  {
   "cell_type": "code",
   "execution_count": 2,
   "id": "68fc278b-8e2d-469d-886b-5ffe05076cd9",
   "metadata": {},
   "outputs": [
    {
     "name": "stdout",
     "output_type": "stream",
     "text": [
      "Lose\n"
     ]
    }
   ],
   "source": [
    "import random\n",
    "\n",
    "def roll_dice():\n",
    "  \"\"\"Rolls two six-sided dice and returns the sum.\"\"\"\n",
    "  die1 = random.randint(1, 6)\n",
    "  die2 = random.randint(1, 6)\n",
    "  return die1 + die2\n",
    "\n",
    "def play_craps():\n",
    "  \"\"\"Simulates a single game of craps.\"\"\"\n",
    "  first_roll = roll_dice()\n",
    "  if first_roll in (7, 11):\n",
    "    return \"Win\"\n",
    "  elif first_roll in (2, 3, 12):\n",
    "    return \"Lose\"\n",
    "  else:\n",
    "    point = first_roll\n",
    "    while True:\n",
    "      next_roll = roll_dice()\n",
    "      if next_roll == point:\n",
    "        return \"Win\"\n",
    "      elif next_roll == 7:\n",
    "        return \"Lose\"\n",
    "\n",
    "# Play a single game\n",
    "result = play_craps()\n",
    "print(result)\n",
    "\n",
    "# Uncomment the following lines to simulate multiple games and track win/loss rates\n",
    "# num_games = 1000\n",
    "# wins = 0\n",
    "# losses = 0\n",
    "# for _ in range(num_games):\n",
    "#   result = play_craps()\n",
    "#   if result == \"Win\":\n",
    "#     wins += 1\n",
    "#   else:\n",
    "#     losses += 1\n",
    "\n",
    "# win_rate = wins / num_games * 100\n",
    "# loss_rate = losses / num_games * 100\n",
    "# print(f\"Win rate: {win_rate:.2f}%\")\n",
    "# print(f\"Loss rate: {loss_rate:.2f}%\")\n"
   ]
  },
  {
   "cell_type": "code",
   "execution_count": 3,
   "id": "3c0aeb5c-8257-4396-b0e2-ef2052acec92",
   "metadata": {},
   "outputs": [
    {
     "name": "stdout",
     "output_type": "stream",
     "text": [
      "Minimum number of infected patients per day: 174\n",
      "Maximum number of infected patients per day: 1704\n",
      "Range of infected patients per day: 1530\n",
      "Mean number of infected patients per day: 845.7\n",
      "Median number of infected patients per day: 704.5\n",
      "Variance of number of infected patients per day: 253620.74736842106\n",
      "Standard deviation of number of infected patients per day: 503.60773164082883\n"
     ]
    }
   ],
   "source": [
    "import statistics\n",
    "\n",
    "# Sample data of number of newly infected patients per day\n",
    "infected_data = [174, 335, 278, 214, 422, 513, 737, 672, 489, 412, 1301,\n",
    "                 1105, 1123, 1376, 1502, 894, 665, 1704, 1656, 1342]\n",
    "\n",
    "# Print descriptive statistics of the data\n",
    "print(\"Minimum number of infected patients per day:\", min(infected_data))\n",
    "print(\"Maximum number of infected patients per day:\", max(infected_data))\n",
    "print(\"Range of infected patients per day:\", max(infected_data) - min(infected_data))\n",
    "print(\"Mean number of infected patients per day:\", statistics.mean(infected_data))\n",
    "print(\"Median number of infected patients per day:\", statistics.median(infected_data))\n",
    "print(\"Variance of number of infected patients per day:\", statistics.variance(infected_data))\n",
    "print(\"Standard deviation of number of infected patients per day:\", statistics.stdev(infected_data))\n"
   ]
  },
  {
   "cell_type": "code",
   "execution_count": null,
   "id": "57dfdf9f-fc8d-408d-a701-2db5dade14d9",
   "metadata": {},
   "outputs": [],
   "source": []
  }
 ],
 "metadata": {
  "kernelspec": {
   "display_name": "Python 3 (ipykernel)",
   "language": "python",
   "name": "python3"
  },
  "language_info": {
   "codemirror_mode": {
    "name": "ipython",
    "version": 3
   },
   "file_extension": ".py",
   "mimetype": "text/x-python",
   "name": "python",
   "nbconvert_exporter": "python",
   "pygments_lexer": "ipython3",
   "version": "3.12.4"
  }
 },
 "nbformat": 4,
 "nbformat_minor": 5
}
